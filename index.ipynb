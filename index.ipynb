{
 "cells": [
  {
   "cell_type": "markdown",
   "metadata": {},
   "source": [
    "# FRC Image Processing with OpenCV + Python 3.5\n",
    "\n",
    "This is a [Jupyter Notebook](http://jupyter.org/), an interactive environment that lets you execute Python code via this webpage.\n",
    "\n",
    "When you open this notebook, you will need to execute each 'cell' of code in order for the other cells to work correctly. To do this, click &#9197; above for each code block, or press SHIFT-ENTER on your keyboard.\n",
    "\n",
    "\n",
    "\n",
    "## Workshop content\n",
    "\n",
    "Let's start with hello world! Click on the next cell, and press SHIFT-ENTER on your keyboard."
   ]
  },
  {
   "cell_type": "code",
   "execution_count": null,
   "metadata": {},
   "outputs": [],
   "source": [
    "print(\"Hello world!\")"
   ]
  },
  {
   "cell_type": "markdown",
   "metadata": {},
   "source": [
    "When executing a python script that uses OpenCV, you need to import NumPy and OpenCV so that you can use them. Let's do that here."
   ]
  },
  {
   "cell_type": "code",
   "execution_count": null,
   "metadata": {
    "slideshow": {
     "slide_type": "-"
    }
   },
   "outputs": [],
   "source": [
    "import numpy as np\n",
    "import cv2\n",
    "import math"
   ]
  },
  {
   "cell_type": "markdown",
   "metadata": {},
   "source": [
    "Feel free to ignore the following code (but you still need to execute it!), it's a helper function that makes it easier to show OpenCV images directly in the notebook environment. When using OpenCV locally, you'll want to use `cv2.imshow(name, img)` instead."
   ]
  },
  {
   "cell_type": "code",
   "execution_count": null,
   "metadata": {
    "collapsed": true
   },
   "outputs": [],
   "source": [
    "# Notebook setup + convenience functions\n",
    "%matplotlib inline\n",
    "import matplotlib.pyplot as plt\n",
    "\n",
    "def force_bgr(img):\n",
    "    '''Forces image to 3-channel representation if grayscale'''\n",
    "    if len(img.shape) == 2 or img.shape[2] == 1:\n",
    "        return cv2.cvtColor(img, cv2.COLOR_GRAY2BGR)\n",
    "    return img\n",
    "\n",
    "def imshow(*args):\n",
    "    '''Helper function to show images, because matplotlib and OpenCV aren't a perfect match'''\n",
    "    fig = plt.figure()\n",
    "    for i, img in enumerate(args):\n",
    "        fig.add_subplot(1,len(args),i+1)\n",
    "        plt.imshow(cv2.cvtColor(force_bgr(img), cv2.COLOR_BGR2RGB))\n"
   ]
  },
  {
   "cell_type": "markdown",
   "metadata": {},
   "source": [
    "This IPython command (not available in normal python scripts) shows the images that are available in the images directory. They are real images taken in FRC competitions and in practice environments:\n",
    "\n",
    "* `2013-f`: 2013 field image from 2423's robot\n",
    "* `2013-p`: 2013 practice images (note how clear they are?)\n",
    "* `2014-f`: 2014 image\n",
    "* `2016-cmp`: 2016 field images from 1418's robot at Championship\n",
    "* `2016-dcmp`: 2016 field images from 1418's robot at District Championship \n",
    "* `2016-p`: 2016 practice images\n"
   ]
  },
  {
   "cell_type": "code",
   "execution_count": null,
   "metadata": {},
   "outputs": [],
   "source": [
    "%ls images"
   ]
  },
  {
   "cell_type": "markdown",
   "metadata": {},
   "source": [
    "OpenCV code to load an image and display it in the notebook"
   ]
  },
  {
   "cell_type": "code",
   "execution_count": null,
   "metadata": {},
   "outputs": [],
   "source": [
    "# Change this to load different images\n",
    "img = cv2.imread('images/2016-cmp-5.jpg')\n",
    "imshow(img)\n",
    "\n",
    "# Print the 'shape' of the image: (width, height, channels)\n",
    "print(img.shape)"
   ]
  },
  {
   "cell_type": "markdown",
   "metadata": {},
   "source": [
    "You can add your own code below! Use SHIFT+ENTER to execute the code."
   ]
  },
  {
   "cell_type": "code",
   "execution_count": null,
   "metadata": {
    "collapsed": true
   },
   "outputs": [],
   "source": []
  },
  {
   "cell_type": "code",
   "execution_count": null,
   "metadata": {
    "collapsed": true
   },
   "outputs": [],
   "source": []
  }
 ],
 "metadata": {
  "kernelspec": {
   "display_name": "Python 3",
   "language": "python",
   "name": "python3"
  },
  "language_info": {
   "codemirror_mode": {
    "name": "ipython",
    "version": 3
   },
   "file_extension": ".py",
   "mimetype": "text/x-python",
   "name": "python",
   "nbconvert_exporter": "python",
   "pygments_lexer": "ipython3",
   "version": "3.7.0"
  }
 },
 "nbformat": 4,
 "nbformat_minor": 1
}
