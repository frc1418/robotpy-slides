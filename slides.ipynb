{
 "cells": [
  {
   "cell_type": "markdown",
   "metadata": {
    "slideshow": {
     "slide_type": "slide"
    }
   },
   "source": [
    "# Robot programming & simulation using Python\n",
    "## Erik Boesen & Tim Winters, Team 1418\n",
    "## December 8th, 2018"
   ]
  },
  {
   "cell_type": "markdown",
   "metadata": {
    "slideshow": {
     "slide_type": "slide"
    }
   },
   "source": [
    "## Agenda\n",
    "* Why Python?\n",
    "* Quick Simulation Demo\n",
    "* Quick Python Primer\n",
    "* Putting it all together\n",
    "* RoboRIO Demo "
   ]
  },
  {
   "cell_type": "markdown",
   "metadata": {
    "slideshow": {
     "slide_type": "slide"
    }
   },
   "source": [
    "## Intended audience\n",
    "* Some familiarity with WPILib in C++/Java\n",
    "* For maximum benefit, you should have some programming experience\n",
    "     * If you don’t, that’s okay"
   ]
  },
  {
   "cell_type": "markdown",
   "metadata": {
    "slideshow": {
     "slide_type": "slide"
    }
   },
   "source": [
    "## Who are we?\n",
    "Erik\n",
    "* President and Programming Captain of 1418\n",
    "* Dean's List Winner 2018\n",
    "* Creator of FRC Dashboard\n",
    "\n",
    "Tim\n",
    "* Former 1418 Captain and Head Programmer\n",
    "* Studying CS at WPI\n",
    "* Major RobotPy contributor\n",
    "\n",
    "Between us we've won 6 Innovation in Control awards for RobotPy and related work"
   ]
  },
  {
   "cell_type": "markdown",
   "metadata": {
    "slideshow": {
     "slide_type": "slide"
    }
   },
   "source": [
    "## What is Python/RobotPy?\n",
    "* Python is a widely used general purpose, high-level programming language\n",
    "     * It’s pretty sweet\n",
    "* RobotPy is the project that packages Python for the RoboRIO\n",
    "    * Maintains pyfrc with various useful utilities "
   ]
  },
  {
   "cell_type": "markdown",
   "metadata": {
    "slideshow": {
     "slide_type": "slide"
    }
   },
   "source": [
    "## Why Python?\n",
    "* Simple language syntax\n",
    "     * Fewer brackets and semicolons\n",
    "     * Indentation is mandatory\n",
    "* Very understandable and readable\n",
    "     * Designed for Rapid Development\n",
    "     * Quick iteration, no compilation\n",
    "     * Dynamic typing\n",
    "* Cross platform\n",
    "     * Windows, OSX, and Linux"
   ]
  },
  {
   "cell_type": "markdown",
   "metadata": {
    "slideshow": {
     "slide_type": "slide"
    }
   },
   "source": [
    "## Why RobotPy?\n",
    "* Mature, proven codebase on high performance robots\n",
    "    * RobotPy project started in 2010\n",
    "* Supported for FRC teams by FRC teams\n",
    "    * Quick bugfixing, because we’re using this code too\n",
    "    * Have you ever submitted a bug report to WPILib? They don’t respond quickly*\n",
    "* Good documentation\n",
    "* Code sans robot\n",
    "    * Robust simulator and tests"
   ]
  },
  {
   "cell_type": "markdown",
   "metadata": {
    "slideshow": {
     "slide_type": "slide"
    }
   },
   "source": [
    "## Why not RobotPy/Python?\n",
    "* Not officially supported by FIRST\n",
    "* Community isn’t as big as official languages\n",
    "    * 33 teams used Python in 2016\n",
    "* Support at competitions is low\n",
    "    * This is less true nowadays\n",
    "    * However, because WPILib is the same, other teams can help you with problems that aren’t specific to Python\n",
    "    * Most problems are WPILib problems, not Python problems\n",
    "* Spacing matters\n",
    "    * Indentation is syntax\n",
    "* Requires that you actually test your code\n",
    "    * Syntax error or mistyping something could crash your code\n",
    "* You DO test your code, right?"
   ]
  },
  {
   "cell_type": "markdown",
   "metadata": {
    "slideshow": {
     "slide_type": "slide"
    }
   },
   "source": [
    "## Demo\n",
    "Simulator & Dashboard"
   ]
  },
  {
   "cell_type": "markdown",
   "metadata": {
    "slideshow": {
     "slide_type": "slide"
    }
   },
   "source": [
    "## How does this work?\n",
    "* Dashboard is HTML/JavaScript\n",
    "* Robot code is written in Python\n",
    "* Pure python implementation of WPILib\n",
    "* Communications via pynetworktables\n",
    "    * Compatible with SmartDashboard/SFX\n",
    "* Simulation engine is pyfrc"
   ]
  },
  {
   "cell_type": "markdown",
   "metadata": {
    "slideshow": {
     "slide_type": "slide"
    }
   },
   "source": [
    "## pyfrc\n",
    "* A python library designed to make developing robot code easier"
   ]
  },
  {
   "cell_type": "markdown",
   "metadata": {
    "slideshow": {
     "slide_type": "slide"
    }
   },
   "source": [
    "## Python primer: comments"
   ]
  },
  {
   "cell_type": "code",
   "execution_count": 3,
   "metadata": {
    "slideshow": {
     "slide_type": "subslide"
    }
   },
   "outputs": [
    {
     "data": {
      "text/plain": [
       "'This is a comment,\\n   but on multiple lines!'"
      ]
     },
     "execution_count": 3,
     "metadata": {},
     "output_type": "execute_result"
    }
   ],
   "source": [
    "# This is a comment\n",
    "\n",
    "\"\"\"This is a comment,\n",
    "   but on multiple lines!\"\"\""
   ]
  },
  {
   "cell_type": "markdown",
   "metadata": {
    "slideshow": {
     "slide_type": "slide"
    }
   },
   "source": [
    "## Python primer: variables"
   ]
  },
  {
   "cell_type": "code",
   "execution_count": null,
   "metadata": {
    "slideshow": {
     "slide_type": "subslide"
    }
   },
   "outputs": [],
   "source": [
    "a = 13\n",
    "b = False\n",
    "\n",
    "c = \"foo\"\n",
    "\n",
    "d = None\n",
    "\n",
    "e = Bar(c)"
   ]
  },
  {
   "cell_type": "markdown",
   "metadata": {
    "slideshow": {
     "slide_type": "slide"
    }
   },
   "source": [
    "## Python primer: operators"
   ]
  },
  {
   "cell_type": "code",
   "execution_count": null,
   "metadata": {
    "slideshow": {
     "slide_type": "subslide"
    }
   },
   "outputs": [],
   "source": [
    "a and b\n",
    "x == 3 and y == 7\n",
    "a == x or b == y\n",
    "x == \"string\"\n",
    "o is None"
   ]
  },
  {
   "cell_type": "markdown",
   "metadata": {
    "slideshow": {
     "slide_type": "slide"
    }
   },
   "source": [
    "## Python primer: conditionals"
   ]
  },
  {
   "cell_type": "code",
   "execution_count": null,
   "metadata": {
    "slideshow": {
     "slide_type": "subslide"
    }
   },
   "outputs": [],
   "source": [
    "if a:\n",
    "    do_something()\n",
    "elif b == 4:\n",
    "    doit(b)\n",
    "else:\n",
    "    done = False"
   ]
  },
  {
   "cell_type": "markdown",
   "metadata": {
    "slideshow": {
     "slide_type": "slide"
    }
   },
   "source": [
    "## Python primer: objects"
   ]
  },
  {
   "cell_type": "code",
   "execution_count": null,
   "metadata": {
    "slideshow": {
     "slide_type": "subslide"
    }
   },
   "outputs": [],
   "source": [
    "class Obj: \n",
    "    def __init__(self): \n",
    "        super().__init__()     \n",
    "        self.x = 2 \n",
    "    def getX(self): \n",
    "        return self.x"
   ]
  }
 ],
 "metadata": {
  "celltoolbar": "Slideshow",
  "kernelspec": {
   "display_name": "Python 3",
   "language": "python",
   "name": "python3"
  },
  "language_info": {
   "codemirror_mode": {
    "name": "ipython",
    "version": 3
   },
   "file_extension": ".py",
   "mimetype": "text/x-python",
   "name": "python",
   "nbconvert_exporter": "python",
   "pygments_lexer": "ipython3",
   "version": "3.7.0"
  }
 },
 "nbformat": 4,
 "nbformat_minor": 1
}
