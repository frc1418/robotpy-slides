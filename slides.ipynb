{
 "cells": [
  {
   "cell_type": "markdown",
   "metadata": {
    "cell_style": "center",
    "slideshow": {
     "slide_type": "slide"
    }
   },
   "source": [
    "# Robot programming & simulation using Python\n",
    "## Erik Boesen & Tim Winters, Team 1418\n",
    "## December 8th, 2018"
   ]
  },
  {
   "cell_type": "markdown",
   "metadata": {
    "slideshow": {
     "slide_type": "slide"
    }
   },
   "source": [
    "## Agenda\n",
    "* Why Python?\n",
    "* Quick Simulation Demo\n",
    "* Quick Python Primer\n",
    "* Putting it all together\n",
    "* RoboRIO Demo\n",
    "* MagicBot\n",
    "* Stateful Autonomous"
   ]
  },
  {
   "cell_type": "markdown",
   "metadata": {
    "slideshow": {
     "slide_type": "slide"
    }
   },
   "source": [
    "## Intended audience\n",
    "* Some familiarity with WPILib in C++/Java\n",
    "* For maximum benefit, you should have some programming experience\n",
    "     * If you don’t, that’s okay"
   ]
  },
  {
   "cell_type": "markdown",
   "metadata": {
    "slideshow": {
     "slide_type": "slide"
    }
   },
   "source": [
    "## Who are we?\n",
    "Erik\n",
    "* President and Programming Captain of 1418\n",
    "* Dean's List Winner 2018\n",
    "* Creator of FRC Dashboard\n",
    "\n",
    "Tim\n",
    "* Former 1418 Captain and Head Programmer\n",
    "* Studying CS at WPI\n",
    "* Major RobotPy contributor\n",
    "\n",
    "Between us we've won 6 Innovation in Control awards"
   ]
  },
  {
   "cell_type": "markdown",
   "metadata": {
    "slideshow": {
     "slide_type": "slide"
    }
   },
   "source": [
    "## What is Python/RobotPy?\n",
    "* Python is a widely used general purpose, high-level programming language\n",
    "     * It’s pretty sweet\n",
    "* RobotPy is the project that packages Python for the RoboRIO\n",
    "    * Maintains pyfrc with various useful utilities "
   ]
  },
  {
   "cell_type": "markdown",
   "metadata": {},
   "source": [
    "## What is PyFRC?\n",
    "* Development tools\n",
    "* Simulator, Unit Tests, Deploy Sequence\n",
    "* Only exists on your computer\n",
    "* Technically not needed for development\n",
    "  * But it makes it a helluva lot easier"
   ]
  },
  {
   "cell_type": "markdown",
   "metadata": {
    "slideshow": {
     "slide_type": "slide"
    }
   },
   "source": [
    "## Why Python?\n",
    "* Simple language syntax\n",
    "     * Fewer brackets and semicolons\n",
    "     * Indentation is mandatory\n",
    "* Very understandable and readable\n",
    "     * Designed for Rapid Development\n",
    "     * Quick iteration, no compilation\n",
    "     * Dynamic typing\n",
    "* Cross platform\n",
    "     * Windows, OSX, and Linux"
   ]
  },
  {
   "cell_type": "markdown",
   "metadata": {
    "slideshow": {
     "slide_type": "slide"
    }
   },
   "source": [
    "## Why RobotPy?\n",
    "* Mature, proven codebase on high performance robots\n",
    "    * RobotPy project started in 2010\n",
    "* Supported for FRC teams by FRC teams\n",
    "    * Quick bugfixing, because we’re using this code too\n",
    "    * Have you ever submitted a bug report to WPILib? They don’t respond quickly*\n",
    "* Good documentation\n",
    "* Code sans robot\n",
    "    * Robust simulator and tests"
   ]
  },
  {
   "cell_type": "markdown",
   "metadata": {
    "slideshow": {
     "slide_type": "slide"
    }
   },
   "source": [
    "## Why not RobotPy/Python?\n",
    "* Not officially supported by FIRST\n",
    "* Community isn’t as big as official languages\n",
    "    * 33 teams used Python in 2016\n",
    "* Support at competitions is low\n",
    "    * This is less true nowadays\n",
    "    * However, because WPILib is the same, other teams can help you with problems that aren’t specific to Python\n",
    "    * Most problems are WPILib problems, not Python problems\n",
    "* Spacing matters\n",
    "    * Indentation is syntax\n",
    "* Requires that you actually test your code\n",
    "    * Syntax error or mistyping something could crash your code\n",
    "* You DO test your code, right?"
   ]
  },
  {
   "cell_type": "markdown",
   "metadata": {
    "slideshow": {
     "slide_type": "slide"
    }
   },
   "source": [
    "## Demo\n",
    "Simulator & Dashboard"
   ]
  },
  {
   "cell_type": "markdown",
   "metadata": {
    "slideshow": {
     "slide_type": "slide"
    }
   },
   "source": [
    "## How does this work?\n",
    "* Dashboard is HTML/JavaScript\n",
    "* Robot code is written in Python\n",
    "* Pure python implementation of WPILib\n",
    "* Communications via pynetworktables\n",
    "    * Compatible with SmartDashboard/SFX\n",
    "* Simulation engine is pyfrc"
   ]
  },
  {
   "cell_type": "markdown",
   "metadata": {
    "slideshow": {
     "slide_type": "slide"
    }
   },
   "source": [
    "## pyfrc\n",
    "* A python library designed to make developing robot code easier"
   ]
  },
  {
   "cell_type": "markdown",
   "metadata": {
    "slideshow": {
     "slide_type": "slide"
    }
   },
   "source": [
    "## Python primer: comments"
   ]
  },
  {
   "cell_type": "markdown",
   "metadata": {
    "slideshow": {
     "slide_type": "fragment"
    }
   },
   "source": [
    "```py\n",
    "# This is a comment\n",
    "\n",
    "\"\"\"This is a comment,\n",
    "   but on multiple lines!\"\"\"\n",
    "```"
   ]
  },
  {
   "cell_type": "markdown",
   "metadata": {
    "slideshow": {
     "slide_type": "slide"
    }
   },
   "source": [
    "## Python primer: variables"
   ]
  },
  {
   "cell_type": "code",
   "execution_count": 1,
   "metadata": {
    "slideshow": {
     "slide_type": "fragment"
    }
   },
   "outputs": [],
   "source": [
    "a = 13\n",
    "b = False\n",
    "\n",
    "c = \"foo\"\n",
    "\n",
    "d = None\n",
    "\n",
    "x = 3\n",
    "y = 4"
   ]
  },
  {
   "cell_type": "markdown",
   "metadata": {
    "slideshow": {
     "slide_type": "slide"
    }
   },
   "source": [
    "## Python primer: operators"
   ]
  },
  {
   "cell_type": "markdown",
   "metadata": {
    "slideshow": {
     "slide_type": "fragment"
    }
   },
   "source": [
    "```py\n",
    "a and b\n",
    "x == 3 and y == 7\n",
    "a == x or b == y\n",
    "x == \"string\"\n",
    "d is None\n",
    "```"
   ]
  },
  {
   "cell_type": "code",
   "execution_count": 2,
   "metadata": {
    "slideshow": {
     "slide_type": "subslide"
    }
   },
   "outputs": [
    {
     "name": "stdout",
     "output_type": "stream",
     "text": [
      "True True\n",
      "True\n",
      "False\n"
     ]
    }
   ],
   "source": [
    "d = None\n",
    "print(d is None, d == None)\n",
    "\n",
    "#Why? Becuase PEP8\n",
    "#Also, it's faster and in some cases, == will be overridden \n",
    "\n",
    "# Same goes for \n",
    "if d is not None:\n",
    "    pass\n",
    "\n",
    "x = 3\n",
    "print(x is 3)\n",
    "x = 10000\n",
    "print(x is 10000) # Why is this different?"
   ]
  },
  {
   "cell_type": "markdown",
   "metadata": {
    "slideshow": {
     "slide_type": "slide"
    }
   },
   "source": [
    "## Python primer: conditionals"
   ]
  },
  {
   "cell_type": "markdown",
   "metadata": {
    "slideshow": {
     "slide_type": "fragment"
    }
   },
   "source": [
    "```py\n",
    "if a:\n",
    "    do_something()\n",
    "elif b == 4: #always use == when checking equality\n",
    "    doit(b)\n",
    "else:\n",
    "    done = False\n",
    "    \n",
    "foo = bar if True else baz\n",
    "```"
   ]
  },
  {
   "cell_type": "markdown",
   "metadata": {
    "slideshow": {
     "slide_type": "slide"
    }
   },
   "source": [
    "## Python primer: objects"
   ]
  },
  {
   "cell_type": "markdown",
   "metadata": {
    "cell_style": "split",
    "format": "column",
    "slideshow": {
     "slide_type": "fragment"
    }
   },
   "source": [
    "## Python\n",
    "```py\n",
    "class Obj(Bar):\n",
    "\n",
    "  def __init__(self):\n",
    "    super().__init__()    \n",
    "    self.x = 2\n",
    "\n",
    "  def getX(self):\n",
    "    return self.x\n",
    "    \n",
    "    \n",
    "    \n",
    "\n",
    "    \n",
    "```\n"
   ]
  },
  {
   "cell_type": "markdown",
   "metadata": {
    "cell_style": "split",
    "slideshow": {
     "slide_type": "fragment"
    }
   },
   "source": [
    "## Java\n",
    "```java\n",
    "public class Obj extends Bar {\n",
    "  int x = 1;\n",
    "\n",
    "  public Obj(){\n",
    "    super();\n",
    "    x = 2;\n",
    "  }\n",
    "\n",
    "  public int getX(){\n",
    "     return x;\n",
    "  }\n",
    "}\n",
    "```"
   ]
  },
  {
   "cell_type": "markdown",
   "metadata": {
    "cell_style": "center",
    "slideshow": {
     "slide_type": "slide"
    }
   },
   "source": [
    "#### Putting it all together\n",
    "# Real Robot Code"
   ]
  },
  {
   "cell_type": "markdown",
   "metadata": {
    "slideshow": {
     "slide_type": "slide"
    }
   },
   "source": [
    "## Real Robot Code\n",
    "\n",
    " * Python uses WPILib\n",
    "     * Robot code isn't that different from C++/Java, same principles still apply\n",
    " * Let's create a robot that changes a solenoid based on a joystick trigger"
   ]
  },
  {
   "cell_type": "markdown",
   "metadata": {
    "slideshow": {
     "slide_type": "slide"
    }
   },
   "source": [
    "## Real Robot Code: robot.py\n",
    "\n",
    "* create a file called robot.py\n",
    "* First, import WPILib so you can use it"
   ]
  },
  {
   "cell_type": "markdown",
   "metadata": {
    "slideshow": {
     "slide_type": "fragment"
    }
   },
   "source": [
    "```py\n",
    "import wpilib\n",
    "```"
   ]
  },
  {
   "cell_type": "markdown",
   "metadata": {
    "slideshow": {
     "slide_type": "slide"
    }
   },
   "source": [
    "## Real Robot Code: robot.py\n",
    "\n",
    "* Next, need to define a robot object\n",
    "  * We'll use iterative robot for simplicity"
   ]
  },
  {
   "cell_type": "markdown",
   "metadata": {
    "slideshow": {
     "slide_type": "fragment"
    }
   },
   "source": [
    "```py\n",
    "import wpilib\n",
    "    \n",
    "class MyRobot(wpilib.IterativeRobot):\n",
    "\n",
    "    def robotInit(self): # Note we don't use __init__ here\n",
    "        \"\"\"Called at startup\"\"\"\n",
    "\n",
    "```"
   ]
  },
  {
   "cell_type": "markdown",
   "metadata": {
    "slideshow": {
     "slide_type": "slide"
    }
   },
   "source": [
    "## Real Robot Code: robot.py\n",
    "\n",
    "* Create a joystick and some devices in the `robotInit` function"
   ]
  },
  {
   "cell_type": "markdown",
   "metadata": {
    "slideshow": {
     "slide_type": "fragment"
    }
   },
   "source": [
    "```py\n",
    "    def robotInit(self): # Note we don't use __init__ here\n",
    "        \"\"\"Called at startup\"\"\"\n",
    "        self.joystick = wpilib.Joystick(1)\n",
    "        \n",
    "        self.dio = wpilib.DigitalInput(1)\n",
    "        \n",
    "        self.solenoid1 = wpilib.Solenoid(1)\n",
    "        self.soldenoid4 = wpilib.Solenoid(4)\n",
    "```\n"
   ]
  },
  {
   "cell_type": "markdown",
   "metadata": {
    "slideshow": {
     "slide_type": "slide"
    }
   },
   "source": [
    "## Real Robot Code: robot.py\n",
    "* Next define your teleoperated code"
   ]
  },
  {
   "cell_type": "markdown",
   "metadata": {
    "slideshow": {
     "slide_type": "fragment"
    }
   },
   "source": [
    "```py\n",
    "    def teleopPeriodic(self):\n",
    "      # control solenoid 1 via joystick trigger\n",
    "      self.solenoid1.set(self.joystick.getTrigger())\n",
    "\n",
    "      # control solenoid 4 via digital input\n",
    "      self.solenoid4.set(self.dio.get()) \n",
    "```"
   ]
  },
  {
   "cell_type": "markdown",
   "metadata": {
    "slideshow": {
     "slide_type": "slide"
    }
   },
   "source": [
    "## Real Robot Code: robot.py\n",
    "* Finally, robotpy needs some stuff to run your code correctly"
   ]
  },
  {
   "cell_type": "markdown",
   "metadata": {
    "slideshow": {
     "slide_type": "fragment"
    }
   },
   "source": [
    "```py\n",
    "if __name__ == '__main__':\n",
    "    wpilib.run(MyRobot)\n",
    "```"
   ]
  },
  {
   "cell_type": "markdown",
   "metadata": {
    "slideshow": {
     "slide_type": "slide"
    }
   },
   "source": [
    "## Real Robot Code: running it!\n",
    "\n",
    "* Use python3 to execute robot.py, and pass it the ‘sim’ argument\n",
    "* Windows: Open cmd, and…\n",
    "  * `cd path\\to\\robot`\n",
    "  * `py -3 robot.py sim`\n",
    "* OSX: Open Terminal, and…\n",
    "  * `cd path/to/robot`\n",
    "  * `python3 robot.py sim`\n",
    " "
   ]
  },
  {
   "cell_type": "markdown",
   "metadata": {
    "slideshow": {
     "slide_type": "slide"
    }
   },
   "source": [
    "## Let's do it"
   ]
  },
  {
   "cell_type": "markdown",
   "metadata": {
    "slideshow": {
     "slide_type": "slide"
    }
   },
   "source": [
    "# Magicbot\n",
    "\n",
    "## This is where the fun begins"
   ]
  },
  {
   "cell_type": "markdown",
   "metadata": {
    "slideshow": {
     "slide_type": "subslide"
    }
   },
   "source": [
    "## What's Magicbot?\n",
    "\n",
    "easier to use, pythonic alternative to the Command framework, and has been used by championship caliber teams to power their robots"
   ]
  },
  {
   "cell_type": "markdown",
   "metadata": {
    "slideshow": {
     "slide_type": "slide"
    }
   },
   "source": [
    "# Philosophy"
   ]
  },
  {
   "cell_type": "markdown",
   "metadata": {
    "slideshow": {
     "slide_type": "slide"
    }
   },
   "source": [
    "* You should use the `MagicRobot` class as your base robot class. You'll note it's similar to `IterativeRobot`"
   ]
  },
  {
   "cell_type": "markdown",
   "metadata": {
    "slideshow": {
     "slide_type": "fragment"
    }
   },
   "source": [
    "```py\n",
    "import magicbot\n",
    "import wpilib\n",
    "\n",
    "class MyRobot(magicbot.MagicRobot):\n",
    "\n",
    "    def createObjects(self):\n",
    "        '''Create motors and stuff here'''\n",
    "        pass\n",
    "\n",
    "    def teleopInit(self):\n",
    "        '''Called when teleop starts; optional'''\n",
    "\n",
    "    def teleopPeriodic(self):\n",
    "        '''Called on each iteration of the control loop'''\n",
    "\n",
    "if __name__ == '__main__':\n",
    "    wpilib.run(MyRobot)\n",
    "```\n"
   ]
  },
  {
   "cell_type": "markdown",
   "metadata": {
    "slideshow": {
     "slide_type": "slide"
    }
   },
   "source": [
    "A robot control program can be divided into several logical parts (think drivetrain, forklift, elevator, etc). We refer to these parts as “Components”."
   ]
  },
  {
   "cell_type": "markdown",
   "metadata": {
    "slideshow": {
     "slide_type": "slide"
    }
   },
   "source": [
    "## Components\n",
    "\n",
    "When you design your robot code, you should define each of the components of your robot and order them in a hierarchy, with “low level” components at the bottom and “high level” components at the top.\n",
    "\n",
    "* \"Low Level\" components are those that directly interact with physical hardware: drivetrain, elevator, grabber\n",
    "* \"High level\" components are those that only interact with other components: these are generally automatic behaviors or encapsulation of multiple low level components into an easier to use component (superstructure, perhaps?)"
   ]
  },
  {
   "cell_type": "markdown",
   "metadata": {
    "slideshow": {
     "slide_type": "subslide"
    }
   },
   "source": [
    "\n",
    "_Components should not interact with joysticks or other operator controls_. This allows them to be used in autonomous and teleop. "
   ]
  },
  {
   "cell_type": "markdown",
   "metadata": {
    "slideshow": {
     "slide_type": "slide"
    }
   },
   "source": [
    "## What makes up a component?\n",
    "\n",
    "* __Control__ Methods\n",
    "* __Informational__ methods\n",
    "* An `execute` method"
   ]
  },
  {
   "cell_type": "markdown",
   "metadata": {
    "slideshow": {
     "slide_type": "subslide"
    }
   },
   "source": [
    "### Control Methods\n",
    "\n",
    "Think of these as __verb__ functions\n",
    "\n",
    "Control methods store information necessary to perform a desired action, but __do not actually execute the action__. For example, they may store the desired flywheel speed, but do not tell the motor to go to that speed. \n",
    "\n",
    " Example method names: `raise_elevator`, `spin_up_shooter`, `align_to_angle`\n",
    "\n"
   ]
  },
  {
   "cell_type": "markdown",
   "metadata": {
    "slideshow": {
     "slide_type": "subslide"
    }
   },
   "source": [
    "### Informational Methods\n",
    "\n",
    "These are basic methods that tell something about a component. They are typically called from control methods, but may be called from execute as well. If this was java code these would most likely be 'getter' methods\n",
    "\n",
    "Example method names: `is_arm_lowered`, `ready_to_shoot`\n",
    "\n"
   ]
  },
  {
   "cell_type": "markdown",
   "metadata": {
    "slideshow": {
     "slide_type": "subslide"
    }
   },
   "source": [
    "### execute method\n",
    "\n",
    "The `execute` method reads the data stored by the __control__ methods, and then sends data to output devices such as motors to execute the action. You should not call the execute function, as `execute` is automticaally called by the MagicRobot if you define it as a magic component"
   ]
  },
  {
   "cell_type": "markdown",
   "metadata": {
    "slideshow": {
     "slide_type": "slide"
    }
   },
   "source": [
    "## How do I create a component?\n",
    "\n",
    "Components are instantiated by the MagicRobot class. You can tell the MagicRobot class to create magic components by annotating the variable names and types in your MyRobot class"
   ]
  },
  {
   "cell_type": "markdown",
   "metadata": {
    "slideshow": {
     "slide_type": "fragment"
    }
   },
   "source": [
    "```py\n",
    "from components import Elevator, Forklift\n",
    "\n",
    "class MyRobot(MagicRobot):\n",
    "    \"\"\"elevator and forklift are considered components because\n",
    "    they are class level, public (no _) variables that are class\n",
    "    types \"\"\"\n",
    "    elevator: Elevator\n",
    "    forklift: Forklift\n",
    "\n",
    "    def teleopPeriodic(self):\n",
    "        # self.elevator is now an instance of Elevator\n",
    "```"
   ]
  },
  {
   "cell_type": "markdown",
   "metadata": {
    "slideshow": {
     "slide_type": "slide"
    }
   },
   "source": [
    "## Variable Injection: What Makes MagicBot Magic\n",
    "\n",
    "To reduce boilerplate associated with passing components around, MagicRobot can inject variables defined in your robot class into other components, and autonomous modes.\n"
   ]
  },
  {
   "cell_type": "markdown",
   "metadata": {
    "cell_style": "center",
    "slideshow": {
     "slide_type": "subslide"
    }
   },
   "source": [
    "```py\n",
    "class MyRobot(MagicRobot):\n",
    "    elevator: Elevator\n",
    "\n",
    "    def createObjects(self):\n",
    "        self.elevator_motor = wpilib.Talon(2)\n",
    "```"
   ]
  },
  {
   "cell_type": "markdown",
   "metadata": {
    "cell_style": "center",
    "slideshow": {
     "slide_type": "fragment"
    }
   },
   "source": [
    "```py\n",
    "class Elevator:\n",
    "    elevator_motor: wpilib.Talon\n",
    "\n",
    "    def execute(self):\n",
    "        # self.elevator_motor is a reference to the Talon instance\n",
    "        # created in MyRobot.createObjects\n",
    "```"
   ]
  },
  {
   "cell_type": "markdown",
   "metadata": {
    "slideshow": {
     "slide_type": "fragment"
    }
   },
   "source": [
    "As you may be able to infer, by declaring in your `Elevator` class an annotation that matches an attribute in your Robot class, Magicbot automatically notices this and adds an attribute in your component with the instance as defined in your robot class."
   ]
  },
  {
   "cell_type": "markdown",
   "metadata": {
    "slideshow": {
     "slide_type": "slide"
    }
   },
   "source": [
    "## Now it get's a little more advanced\n",
    "\n",
    "Sometimes, it’s useful to use multiple instances of the same class. You can inject into unique instances by prefixing variable names with the component variable name:"
   ]
  },
  {
   "cell_type": "markdown",
   "metadata": {
    "slideshow": {
     "slide_type": "fragment"
    }
   },
   "source": [
    "```py\n",
    "class MyRobot(MagicRobot):\n",
    "    front_swerve: SwerveModule\n",
    "    back_swerve: SwerveModule\n",
    "\n",
    "    def createObjects(self):\n",
    "        # this is injected into the front_swerve instance of SwerveModule as 'rotate_motor' and 'drive_motor'\n",
    "        self.front_swerve_rotate_motor = wpilib.Talon(1)\n",
    "        self.front_swerve_drive_motor = wpilib.Talon(3)\n",
    "\n",
    "        # this is injected into the back_swerve instance of SwerveModule as 'rotate_motor' and 'drive_motor'\n",
    "        self.back_swerve_rotate_motor = wpilib.Talon(2)\n",
    "        self.back_swerve_drive_motor = wpilib.Talon(4)\n",
    "\n",
    "class SwerveModule:\n",
    "    rotate_motor: wpilib.Talon\n",
    "    drive_motor: wpilib.Talon\n",
    "```"
   ]
  },
  {
   "cell_type": "markdown",
   "metadata": {
    "slideshow": {
     "slide_type": "slide"
    }
   },
   "source": [
    "## Operator Control code\n",
    "\n",
    "Code that controls components should go in the `teleopPeriodic` method.\n",
    "\n",
    "To ensure that a single portion of robot code cannot bring down your entire robot program during a competition, MagicRobot provides an `onException` method that will either swallow the exception and report it to the Driver Station, or if not connected to the FMS will crash the robot so that you can inspect the error:"
   ]
  },
  {
   "cell_type": "markdown",
   "metadata": {
    "slideshow": {
     "slide_type": "fragment"
    }
   },
   "source": [
    "```py\n",
    "try:\n",
    "    if self.joystick.getTrigger():\n",
    "        self.component.doSomething()\n",
    "except:\n",
    "    self.onException()\n",
    "```\n"
   ]
  },
  {
   "cell_type": "markdown",
   "metadata": {
    "slideshow": {
     "slide_type": "slide"
    }
   },
   "source": [
    "# Autonomous\n",
    "### The best thing since sliced bread"
   ]
  },
  {
   "cell_type": "markdown",
   "metadata": {
    "slideshow": {
     "slide_type": "subslide"
    }
   },
   "source": [
    "## Stateful Autonomous\n",
    "\n",
    "* Created in 2014, has expanded quite a bit since then\n",
    "* State machine interface for writing quick autonomous modes and sequences\n",
    "* Can be used during teleop for reliability and repeatability"
   ]
  },
  {
   "cell_type": "markdown",
   "metadata": {
    "slideshow": {
     "slide_type": "slide"
    }
   },
   "source": [
    "## What is a state machine?\n",
    "\n",
    "* First and foremost, a design pattern\n",
    "* Breaks down complex tasks into simpler ones, called 'states'\n",
    "* Each iteration, check which state you should be in, and perform the corresponding task"
   ]
  },
  {
   "cell_type": "markdown",
   "metadata": {
    "slideshow": {
     "slide_type": "slide"
    }
   },
   "source": [
    "## Without StatefulAutonomous\n",
    "\n",
    "```py\n",
    "state = 0\n",
    "shooter_enabled = False\n",
    "timer = wpilib.Timer()\n",
    "while True:\n",
    "    if state == 1:\n",
    "        if not shooter_enabled:\n",
    "            self.shooter.enable()\n",
    "            shooter_enabled = true\n",
    "        if self.shooter.ready():\n",
    "            state += 1\n",
    "            timer.reset()\n",
    "    elif state == 2:\n",
    "        self.ball_pusher.push()\n",
    "        if timer.hasPeriodPassed(2):\n",
    "            break\n",
    "```\n",
    "\n",
    "15 LOC, without setup boilerplate"
   ]
  },
  {
   "cell_type": "markdown",
   "metadata": {
    "slideshow": {
     "slide_type": "slide"
    }
   },
   "source": [
    "## With StatefulAutonomous\n",
    "```py\n",
    "class ShooterAutomation(StateMachine):\n",
    "\n",
    "    shooter: Shooter\n",
    "    ball_pusher: BallPusher\n",
    "\n",
    "    def fire(self):\n",
    "        self.engage()\n",
    "        \n",
    "    @state(first=True)\n",
    "        def begin_firing(self, inital_call):\n",
    "            \"\"\"This function will only be called IFF fire is called and\n",
    "               the FSM isn't currently in the 'firing' state. If fire\n",
    "               was not called, this function will not execute.\"\"\"\n",
    "            if initial_call:\n",
    "                self.shooter.enable()\n",
    "            if self.shooter.ready():\n",
    "                self.next_state('firing')\n",
    "\n",
    "    @timed_state(duration=2.0, must_finish=True)\n",
    "        def firing(self):\n",
    "            \"\"\"Because must_finish=True, once the FSM has reached this\n",
    "               state, this state will continue executing even if engage\n",
    "               isn't called\"\"\"\n",
    "            self.ball_pusher.push()\n",
    "```\n",
    "\n",
    "17 LOC (including imports)"
   ]
  },
  {
   "cell_type": "markdown",
   "metadata": {
    "slideshow": {
     "slide_type": "slide"
    }
   },
   "source": [
    "## Why is this better?\n",
    "\n",
    "* Readable. Broken up by function, rather than indentation\n",
    "* Don't need to worry about timers\n",
    "* Variable Injection with MagicBot (but this framework works without magicbot)"
   ]
  },
  {
   "cell_type": "markdown",
   "metadata": {
    "slideshow": {
     "slide_type": "slide"
    }
   },
   "source": [
    "## Some other niceties\n",
    "\n",
    "* Default states, like default commands in `CommandBased`, will be executed when state machine is not engaged\n",
    "* Contains 'initial call' logic\n",
    "  * No need to have a boolean set to true after first iteration\n",
    "* Keeps track of time since the state started, and since the state machine started\n",
    "* Oh, and it's tunable via NetworkTables\n",
    "  * If you are using `timed_state`, you can edit the duration\n",
    "* If you're feeling daring, you can chain together autonomous modes"
   ]
  },
  {
   "cell_type": "markdown",
   "metadata": {
    "slideshow": {
     "slide_type": "slide"
    }
   },
   "source": [
    "# Demo\n",
    "\n",
    "### Shall we?"
   ]
  }
 ],
 "metadata": {
  "celltoolbar": "Slideshow",
  "kernelspec": {
   "display_name": "Python 3",
   "language": "python",
   "name": "python3"
  },
  "language_info": {
   "codemirror_mode": {
    "name": "ipython",
    "version": 3
   },
   "file_extension": ".py",
   "mimetype": "text/x-python",
   "name": "python",
   "nbconvert_exporter": "python",
   "pygments_lexer": "ipython3",
   "version": "3.7.0"
  },
  "rise": {
   "footer": "<h3>Vae Victis Workshop, 2018</h3>",
   "header": "<img src='robotpy.png' style='height: 100px; float: right'>",
   "overlay_": "<div class='myheader'><img src='robotpy.png' style='height: 100px; float: right'></div><div class='myfooter' style='float: right'><h3>Vae Victis Workshop, 2018</h3></div>",
   "theme": "serif"
  }
 },
 "nbformat": 4,
 "nbformat_minor": 1
}
